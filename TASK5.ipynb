{
 "cells": [
  {
   "cell_type": "code",
   "execution_count": 61,
   "metadata": {},
   "outputs": [],
   "source": [
    "import pandas as pd\n",
    "import numpy as np\n",
    "import matplotlib.pyplot as plt\n",
    "import plotly.express as px\n",
    "import seaborn as sns"
   ]
  },
  {
   "cell_type": "code",
   "execution_count": 62,
   "metadata": {},
   "outputs": [
    {
     "name": "stdout",
     "output_type": "stream",
     "text": [
      "<_io.TextIOWrapper name='takehome_users.csv' mode='r' encoding='cp1252'>\n",
      "<_io.TextIOWrapper name='takehome_user_engagement.csv' mode='r' encoding='cp1252'>\n"
     ]
    }
   ],
   "source": [
    "# Checking the encoding of the csv files\n",
    "with open('takehome_users.csv') as f:\n",
    "    print(f)\n",
    "with open('takehome_user_engagement.csv') as f:\n",
    "    print(f)"
   ]
  },
  {
   "cell_type": "code",
   "execution_count": 63,
   "metadata": {},
   "outputs": [],
   "source": [
    "df=pd.read_csv('takehome_users.csv',encoding='cp1252')"
   ]
  },
  {
   "cell_type": "code",
   "execution_count": 64,
   "metadata": {},
   "outputs": [
    {
     "data": {
      "text/html": [
       "<div>\n",
       "<style scoped>\n",
       "    .dataframe tbody tr th:only-of-type {\n",
       "        vertical-align: middle;\n",
       "    }\n",
       "\n",
       "    .dataframe tbody tr th {\n",
       "        vertical-align: top;\n",
       "    }\n",
       "\n",
       "    .dataframe thead th {\n",
       "        text-align: right;\n",
       "    }\n",
       "</style>\n",
       "<table border=\"1\" class=\"dataframe\">\n",
       "  <thead>\n",
       "    <tr style=\"text-align: right;\">\n",
       "      <th></th>\n",
       "      <th>object_id</th>\n",
       "      <th>creation_time</th>\n",
       "      <th>name</th>\n",
       "      <th>email</th>\n",
       "      <th>creation_source</th>\n",
       "      <th>last_session_creation_time</th>\n",
       "      <th>opted_in_to_mailing_list</th>\n",
       "      <th>enabled_for_marketing_drip</th>\n",
       "      <th>org_id</th>\n",
       "      <th>invited_by_user_id</th>\n",
       "    </tr>\n",
       "  </thead>\n",
       "  <tbody>\n",
       "    <tr>\n",
       "      <th>0</th>\n",
       "      <td>1</td>\n",
       "      <td>2014-04-22 03:53:30</td>\n",
       "      <td>Clausen August</td>\n",
       "      <td>AugustCClausen@yahoo.com</td>\n",
       "      <td>GUEST_INVITE</td>\n",
       "      <td>1.398139e+09</td>\n",
       "      <td>1</td>\n",
       "      <td>0</td>\n",
       "      <td>11</td>\n",
       "      <td>10803.0</td>\n",
       "    </tr>\n",
       "    <tr>\n",
       "      <th>1</th>\n",
       "      <td>2</td>\n",
       "      <td>2013-11-15 03:45:04</td>\n",
       "      <td>Poole Matthew</td>\n",
       "      <td>MatthewPoole@gustr.com</td>\n",
       "      <td>ORG_INVITE</td>\n",
       "      <td>1.396238e+09</td>\n",
       "      <td>0</td>\n",
       "      <td>0</td>\n",
       "      <td>1</td>\n",
       "      <td>316.0</td>\n",
       "    </tr>\n",
       "    <tr>\n",
       "      <th>2</th>\n",
       "      <td>3</td>\n",
       "      <td>2013-03-19 23:14:52</td>\n",
       "      <td>Bottrill Mitchell</td>\n",
       "      <td>MitchellBottrill@gustr.com</td>\n",
       "      <td>ORG_INVITE</td>\n",
       "      <td>1.363735e+09</td>\n",
       "      <td>0</td>\n",
       "      <td>0</td>\n",
       "      <td>94</td>\n",
       "      <td>1525.0</td>\n",
       "    </tr>\n",
       "    <tr>\n",
       "      <th>3</th>\n",
       "      <td>4</td>\n",
       "      <td>2013-05-21 08:09:28</td>\n",
       "      <td>Clausen Nicklas</td>\n",
       "      <td>NicklasSClausen@yahoo.com</td>\n",
       "      <td>GUEST_INVITE</td>\n",
       "      <td>1.369210e+09</td>\n",
       "      <td>0</td>\n",
       "      <td>0</td>\n",
       "      <td>1</td>\n",
       "      <td>5151.0</td>\n",
       "    </tr>\n",
       "    <tr>\n",
       "      <th>4</th>\n",
       "      <td>5</td>\n",
       "      <td>2013-01-17 10:14:20</td>\n",
       "      <td>Raw Grace</td>\n",
       "      <td>GraceRaw@yahoo.com</td>\n",
       "      <td>GUEST_INVITE</td>\n",
       "      <td>1.358850e+09</td>\n",
       "      <td>0</td>\n",
       "      <td>0</td>\n",
       "      <td>193</td>\n",
       "      <td>5240.0</td>\n",
       "    </tr>\n",
       "  </tbody>\n",
       "</table>\n",
       "</div>"
      ],
      "text/plain": [
       "   object_id        creation_time               name  \\\n",
       "0          1  2014-04-22 03:53:30     Clausen August   \n",
       "1          2  2013-11-15 03:45:04      Poole Matthew   \n",
       "2          3  2013-03-19 23:14:52  Bottrill Mitchell   \n",
       "3          4  2013-05-21 08:09:28    Clausen Nicklas   \n",
       "4          5  2013-01-17 10:14:20          Raw Grace   \n",
       "\n",
       "                        email creation_source  last_session_creation_time  \\\n",
       "0    AugustCClausen@yahoo.com    GUEST_INVITE                1.398139e+09   \n",
       "1      MatthewPoole@gustr.com      ORG_INVITE                1.396238e+09   \n",
       "2  MitchellBottrill@gustr.com      ORG_INVITE                1.363735e+09   \n",
       "3   NicklasSClausen@yahoo.com    GUEST_INVITE                1.369210e+09   \n",
       "4          GraceRaw@yahoo.com    GUEST_INVITE                1.358850e+09   \n",
       "\n",
       "   opted_in_to_mailing_list  enabled_for_marketing_drip  org_id  \\\n",
       "0                         1                           0      11   \n",
       "1                         0                           0       1   \n",
       "2                         0                           0      94   \n",
       "3                         0                           0       1   \n",
       "4                         0                           0     193   \n",
       "\n",
       "   invited_by_user_id  \n",
       "0             10803.0  \n",
       "1               316.0  \n",
       "2              1525.0  \n",
       "3              5151.0  \n",
       "4              5240.0  "
      ]
     },
     "execution_count": 64,
     "metadata": {},
     "output_type": "execute_result"
    }
   ],
   "source": [
    "df.head()"
   ]
  },
  {
   "cell_type": "code",
   "execution_count": 65,
   "metadata": {},
   "outputs": [
    {
     "data": {
      "text/html": [
       "<div>\n",
       "<style scoped>\n",
       "    .dataframe tbody tr th:only-of-type {\n",
       "        vertical-align: middle;\n",
       "    }\n",
       "\n",
       "    .dataframe tbody tr th {\n",
       "        vertical-align: top;\n",
       "    }\n",
       "\n",
       "    .dataframe thead th {\n",
       "        text-align: right;\n",
       "    }\n",
       "</style>\n",
       "<table border=\"1\" class=\"dataframe\">\n",
       "  <thead>\n",
       "    <tr style=\"text-align: right;\">\n",
       "      <th></th>\n",
       "      <th>object_id</th>\n",
       "      <th>creation_time</th>\n",
       "      <th>name</th>\n",
       "      <th>email</th>\n",
       "      <th>creation_source</th>\n",
       "      <th>last_session_creation_time</th>\n",
       "      <th>opted_in_to_mailing_list</th>\n",
       "      <th>enabled_for_marketing_drip</th>\n",
       "      <th>org_id</th>\n",
       "      <th>invited_by_user_id</th>\n",
       "    </tr>\n",
       "  </thead>\n",
       "  <tbody>\n",
       "    <tr>\n",
       "      <th>0</th>\n",
       "      <td>1</td>\n",
       "      <td>2014-04-22 03:53:30</td>\n",
       "      <td>Clausen August</td>\n",
       "      <td>AugustCClausen@yahoo.com</td>\n",
       "      <td>GUEST_INVITE</td>\n",
       "      <td>1.398139e+09</td>\n",
       "      <td>1</td>\n",
       "      <td>0</td>\n",
       "      <td>11</td>\n",
       "      <td>10803.0</td>\n",
       "    </tr>\n",
       "    <tr>\n",
       "      <th>1</th>\n",
       "      <td>2</td>\n",
       "      <td>2013-11-15 03:45:04</td>\n",
       "      <td>Poole Matthew</td>\n",
       "      <td>MatthewPoole@gustr.com</td>\n",
       "      <td>ORG_INVITE</td>\n",
       "      <td>1.396238e+09</td>\n",
       "      <td>0</td>\n",
       "      <td>0</td>\n",
       "      <td>1</td>\n",
       "      <td>316.0</td>\n",
       "    </tr>\n",
       "    <tr>\n",
       "      <th>2</th>\n",
       "      <td>3</td>\n",
       "      <td>2013-03-19 23:14:52</td>\n",
       "      <td>Bottrill Mitchell</td>\n",
       "      <td>MitchellBottrill@gustr.com</td>\n",
       "      <td>ORG_INVITE</td>\n",
       "      <td>1.363735e+09</td>\n",
       "      <td>0</td>\n",
       "      <td>0</td>\n",
       "      <td>94</td>\n",
       "      <td>1525.0</td>\n",
       "    </tr>\n",
       "    <tr>\n",
       "      <th>3</th>\n",
       "      <td>4</td>\n",
       "      <td>2013-05-21 08:09:28</td>\n",
       "      <td>Clausen Nicklas</td>\n",
       "      <td>NicklasSClausen@yahoo.com</td>\n",
       "      <td>GUEST_INVITE</td>\n",
       "      <td>1.369210e+09</td>\n",
       "      <td>0</td>\n",
       "      <td>0</td>\n",
       "      <td>1</td>\n",
       "      <td>5151.0</td>\n",
       "    </tr>\n",
       "    <tr>\n",
       "      <th>4</th>\n",
       "      <td>5</td>\n",
       "      <td>2013-01-17 10:14:20</td>\n",
       "      <td>Raw Grace</td>\n",
       "      <td>GraceRaw@yahoo.com</td>\n",
       "      <td>GUEST_INVITE</td>\n",
       "      <td>1.358850e+09</td>\n",
       "      <td>0</td>\n",
       "      <td>0</td>\n",
       "      <td>193</td>\n",
       "      <td>5240.0</td>\n",
       "    </tr>\n",
       "  </tbody>\n",
       "</table>\n",
       "</div>"
      ],
      "text/plain": [
       "   object_id       creation_time               name  \\\n",
       "0          1 2014-04-22 03:53:30     Clausen August   \n",
       "1          2 2013-11-15 03:45:04      Poole Matthew   \n",
       "2          3 2013-03-19 23:14:52  Bottrill Mitchell   \n",
       "3          4 2013-05-21 08:09:28    Clausen Nicklas   \n",
       "4          5 2013-01-17 10:14:20          Raw Grace   \n",
       "\n",
       "                        email creation_source  last_session_creation_time  \\\n",
       "0    AugustCClausen@yahoo.com    GUEST_INVITE                1.398139e+09   \n",
       "1      MatthewPoole@gustr.com      ORG_INVITE                1.396238e+09   \n",
       "2  MitchellBottrill@gustr.com      ORG_INVITE                1.363735e+09   \n",
       "3   NicklasSClausen@yahoo.com    GUEST_INVITE                1.369210e+09   \n",
       "4          GraceRaw@yahoo.com    GUEST_INVITE                1.358850e+09   \n",
       "\n",
       "   opted_in_to_mailing_list  enabled_for_marketing_drip  org_id  \\\n",
       "0                         1                           0      11   \n",
       "1                         0                           0       1   \n",
       "2                         0                           0      94   \n",
       "3                         0                           0       1   \n",
       "4                         0                           0     193   \n",
       "\n",
       "   invited_by_user_id  \n",
       "0             10803.0  \n",
       "1               316.0  \n",
       "2              1525.0  \n",
       "3              5151.0  \n",
       "4              5240.0  "
      ]
     },
     "execution_count": 65,
     "metadata": {},
     "output_type": "execute_result"
    }
   ],
   "source": [
    "df1=pd.read_csv('takehome_users.csv',parse_dates=['creation_time'],encoding='cp1252')\n",
    "df1.head()"
   ]
  },
  {
   "cell_type": "code",
   "execution_count": 66,
   "metadata": {},
   "outputs": [
    {
     "data": {
      "text/html": [
       "<div>\n",
       "<style scoped>\n",
       "    .dataframe tbody tr th:only-of-type {\n",
       "        vertical-align: middle;\n",
       "    }\n",
       "\n",
       "    .dataframe tbody tr th {\n",
       "        vertical-align: top;\n",
       "    }\n",
       "\n",
       "    .dataframe thead th {\n",
       "        text-align: right;\n",
       "    }\n",
       "</style>\n",
       "<table border=\"1\" class=\"dataframe\">\n",
       "  <thead>\n",
       "    <tr style=\"text-align: right;\">\n",
       "      <th></th>\n",
       "      <th>time_stamp</th>\n",
       "      <th>user_id</th>\n",
       "      <th>visited</th>\n",
       "    </tr>\n",
       "  </thead>\n",
       "  <tbody>\n",
       "    <tr>\n",
       "      <th>0</th>\n",
       "      <td>2014-04-22 03:53:30</td>\n",
       "      <td>1</td>\n",
       "      <td>1</td>\n",
       "    </tr>\n",
       "    <tr>\n",
       "      <th>1</th>\n",
       "      <td>2013-11-15 03:45:04</td>\n",
       "      <td>2</td>\n",
       "      <td>1</td>\n",
       "    </tr>\n",
       "    <tr>\n",
       "      <th>2</th>\n",
       "      <td>2013-11-29 03:45:04</td>\n",
       "      <td>2</td>\n",
       "      <td>1</td>\n",
       "    </tr>\n",
       "    <tr>\n",
       "      <th>3</th>\n",
       "      <td>2013-12-09 03:45:04</td>\n",
       "      <td>2</td>\n",
       "      <td>1</td>\n",
       "    </tr>\n",
       "    <tr>\n",
       "      <th>4</th>\n",
       "      <td>2013-12-25 03:45:04</td>\n",
       "      <td>2</td>\n",
       "      <td>1</td>\n",
       "    </tr>\n",
       "  </tbody>\n",
       "</table>\n",
       "</div>"
      ],
      "text/plain": [
       "           time_stamp  user_id  visited\n",
       "0 2014-04-22 03:53:30        1        1\n",
       "1 2013-11-15 03:45:04        2        1\n",
       "2 2013-11-29 03:45:04        2        1\n",
       "3 2013-12-09 03:45:04        2        1\n",
       "4 2013-12-25 03:45:04        2        1"
      ]
     },
     "execution_count": 66,
     "metadata": {},
     "output_type": "execute_result"
    }
   ],
   "source": [
    "df2=pd.read_csv('takehome_user_engagement.csv',parse_dates=['time_stamp'],encoding='cp1252')\n",
    "df2.head()"
   ]
  },
  {
   "cell_type": "code",
   "execution_count": 67,
   "metadata": {},
   "outputs": [
    {
     "name": "stdout",
     "output_type": "stream",
     "text": [
      "<class 'pandas.core.frame.DataFrame'>\n",
      "RangeIndex: 12000 entries, 0 to 11999\n",
      "Data columns (total 10 columns):\n",
      " #   Column                      Non-Null Count  Dtype         \n",
      "---  ------                      --------------  -----         \n",
      " 0   object_id                   12000 non-null  int64         \n",
      " 1   creation_time               12000 non-null  datetime64[ns]\n",
      " 2   name                        12000 non-null  object        \n",
      " 3   email                       12000 non-null  object        \n",
      " 4   creation_source             12000 non-null  object        \n",
      " 5   last_session_creation_time  8823 non-null   float64       \n",
      " 6   opted_in_to_mailing_list    12000 non-null  int64         \n",
      " 7   enabled_for_marketing_drip  12000 non-null  int64         \n",
      " 8   org_id                      12000 non-null  int64         \n",
      " 9   invited_by_user_id          6417 non-null   float64       \n",
      "dtypes: datetime64[ns](1), float64(2), int64(4), object(3)\n",
      "memory usage: 937.6+ KB\n"
     ]
    }
   ],
   "source": [
    "df1.info()"
   ]
  },
  {
   "cell_type": "code",
   "execution_count": 68,
   "metadata": {},
   "outputs": [
    {
     "name": "stdout",
     "output_type": "stream",
     "text": [
      "<class 'pandas.core.frame.DataFrame'>\n",
      "RangeIndex: 207917 entries, 0 to 207916\n",
      "Data columns (total 3 columns):\n",
      " #   Column      Non-Null Count   Dtype         \n",
      "---  ------      --------------   -----         \n",
      " 0   time_stamp  207917 non-null  datetime64[ns]\n",
      " 1   user_id     207917 non-null  int64         \n",
      " 2   visited     207917 non-null  int64         \n",
      "dtypes: datetime64[ns](1), int64(2)\n",
      "memory usage: 4.8 MB\n"
     ]
    }
   ],
   "source": [
    "df2.info()"
   ]
  },
  {
   "cell_type": "code",
   "execution_count": 69,
   "metadata": {},
   "outputs": [
    {
     "data": {
      "text/html": [
       "<div>\n",
       "<style scoped>\n",
       "    .dataframe tbody tr th:only-of-type {\n",
       "        vertical-align: middle;\n",
       "    }\n",
       "\n",
       "    .dataframe tbody tr th {\n",
       "        vertical-align: top;\n",
       "    }\n",
       "\n",
       "    .dataframe thead th {\n",
       "        text-align: right;\n",
       "    }\n",
       "</style>\n",
       "<table border=\"1\" class=\"dataframe\">\n",
       "  <thead>\n",
       "    <tr style=\"text-align: right;\">\n",
       "      <th></th>\n",
       "      <th>object_id</th>\n",
       "      <th>last_session_creation_time</th>\n",
       "      <th>opted_in_to_mailing_list</th>\n",
       "      <th>enabled_for_marketing_drip</th>\n",
       "      <th>org_id</th>\n",
       "      <th>invited_by_user_id</th>\n",
       "    </tr>\n",
       "  </thead>\n",
       "  <tbody>\n",
       "    <tr>\n",
       "      <th>count</th>\n",
       "      <td>12000.00000</td>\n",
       "      <td>8.823000e+03</td>\n",
       "      <td>12000.000000</td>\n",
       "      <td>12000.000000</td>\n",
       "      <td>12000.000000</td>\n",
       "      <td>6417.000000</td>\n",
       "    </tr>\n",
       "    <tr>\n",
       "      <th>mean</th>\n",
       "      <td>6000.50000</td>\n",
       "      <td>1.379279e+09</td>\n",
       "      <td>0.249500</td>\n",
       "      <td>0.149333</td>\n",
       "      <td>141.884583</td>\n",
       "      <td>5962.957145</td>\n",
       "    </tr>\n",
       "    <tr>\n",
       "      <th>std</th>\n",
       "      <td>3464.24595</td>\n",
       "      <td>1.953116e+07</td>\n",
       "      <td>0.432742</td>\n",
       "      <td>0.356432</td>\n",
       "      <td>124.056723</td>\n",
       "      <td>3383.761968</td>\n",
       "    </tr>\n",
       "    <tr>\n",
       "      <th>min</th>\n",
       "      <td>1.00000</td>\n",
       "      <td>1.338452e+09</td>\n",
       "      <td>0.000000</td>\n",
       "      <td>0.000000</td>\n",
       "      <td>0.000000</td>\n",
       "      <td>3.000000</td>\n",
       "    </tr>\n",
       "    <tr>\n",
       "      <th>25%</th>\n",
       "      <td>3000.75000</td>\n",
       "      <td>1.363195e+09</td>\n",
       "      <td>0.000000</td>\n",
       "      <td>0.000000</td>\n",
       "      <td>29.000000</td>\n",
       "      <td>3058.000000</td>\n",
       "    </tr>\n",
       "    <tr>\n",
       "      <th>50%</th>\n",
       "      <td>6000.50000</td>\n",
       "      <td>1.382888e+09</td>\n",
       "      <td>0.000000</td>\n",
       "      <td>0.000000</td>\n",
       "      <td>108.000000</td>\n",
       "      <td>5954.000000</td>\n",
       "    </tr>\n",
       "    <tr>\n",
       "      <th>75%</th>\n",
       "      <td>9000.25000</td>\n",
       "      <td>1.398443e+09</td>\n",
       "      <td>0.000000</td>\n",
       "      <td>0.000000</td>\n",
       "      <td>238.250000</td>\n",
       "      <td>8817.000000</td>\n",
       "    </tr>\n",
       "    <tr>\n",
       "      <th>max</th>\n",
       "      <td>12000.00000</td>\n",
       "      <td>1.402067e+09</td>\n",
       "      <td>1.000000</td>\n",
       "      <td>1.000000</td>\n",
       "      <td>416.000000</td>\n",
       "      <td>11999.000000</td>\n",
       "    </tr>\n",
       "  </tbody>\n",
       "</table>\n",
       "</div>"
      ],
      "text/plain": [
       "         object_id  last_session_creation_time  opted_in_to_mailing_list  \\\n",
       "count  12000.00000                8.823000e+03              12000.000000   \n",
       "mean    6000.50000                1.379279e+09                  0.249500   \n",
       "std     3464.24595                1.953116e+07                  0.432742   \n",
       "min        1.00000                1.338452e+09                  0.000000   \n",
       "25%     3000.75000                1.363195e+09                  0.000000   \n",
       "50%     6000.50000                1.382888e+09                  0.000000   \n",
       "75%     9000.25000                1.398443e+09                  0.000000   \n",
       "max    12000.00000                1.402067e+09                  1.000000   \n",
       "\n",
       "       enabled_for_marketing_drip        org_id  invited_by_user_id  \n",
       "count                12000.000000  12000.000000         6417.000000  \n",
       "mean                     0.149333    141.884583         5962.957145  \n",
       "std                      0.356432    124.056723         3383.761968  \n",
       "min                      0.000000      0.000000            3.000000  \n",
       "25%                      0.000000     29.000000         3058.000000  \n",
       "50%                      0.000000    108.000000         5954.000000  \n",
       "75%                      0.000000    238.250000         8817.000000  \n",
       "max                      1.000000    416.000000        11999.000000  "
      ]
     },
     "execution_count": 69,
     "metadata": {},
     "output_type": "execute_result"
    }
   ],
   "source": [
    "df1.describe()"
   ]
  },
  {
   "cell_type": "code",
   "execution_count": 70,
   "metadata": {},
   "outputs": [
    {
     "data": {
      "text/html": [
       "<div>\n",
       "<style scoped>\n",
       "    .dataframe tbody tr th:only-of-type {\n",
       "        vertical-align: middle;\n",
       "    }\n",
       "\n",
       "    .dataframe tbody tr th {\n",
       "        vertical-align: top;\n",
       "    }\n",
       "\n",
       "    .dataframe thead th {\n",
       "        text-align: right;\n",
       "    }\n",
       "</style>\n",
       "<table border=\"1\" class=\"dataframe\">\n",
       "  <thead>\n",
       "    <tr style=\"text-align: right;\">\n",
       "      <th></th>\n",
       "      <th>user_id</th>\n",
       "      <th>visited</th>\n",
       "    </tr>\n",
       "  </thead>\n",
       "  <tbody>\n",
       "    <tr>\n",
       "      <th>count</th>\n",
       "      <td>207917.000000</td>\n",
       "      <td>207917.0</td>\n",
       "    </tr>\n",
       "    <tr>\n",
       "      <th>mean</th>\n",
       "      <td>5913.314197</td>\n",
       "      <td>1.0</td>\n",
       "    </tr>\n",
       "    <tr>\n",
       "      <th>std</th>\n",
       "      <td>3394.941674</td>\n",
       "      <td>0.0</td>\n",
       "    </tr>\n",
       "    <tr>\n",
       "      <th>min</th>\n",
       "      <td>1.000000</td>\n",
       "      <td>1.0</td>\n",
       "    </tr>\n",
       "    <tr>\n",
       "      <th>25%</th>\n",
       "      <td>3087.000000</td>\n",
       "      <td>1.0</td>\n",
       "    </tr>\n",
       "    <tr>\n",
       "      <th>50%</th>\n",
       "      <td>5682.000000</td>\n",
       "      <td>1.0</td>\n",
       "    </tr>\n",
       "    <tr>\n",
       "      <th>75%</th>\n",
       "      <td>8944.000000</td>\n",
       "      <td>1.0</td>\n",
       "    </tr>\n",
       "    <tr>\n",
       "      <th>max</th>\n",
       "      <td>12000.000000</td>\n",
       "      <td>1.0</td>\n",
       "    </tr>\n",
       "  </tbody>\n",
       "</table>\n",
       "</div>"
      ],
      "text/plain": [
       "             user_id   visited\n",
       "count  207917.000000  207917.0\n",
       "mean     5913.314197       1.0\n",
       "std      3394.941674       0.0\n",
       "min         1.000000       1.0\n",
       "25%      3087.000000       1.0\n",
       "50%      5682.000000       1.0\n",
       "75%      8944.000000       1.0\n",
       "max     12000.000000       1.0"
      ]
     },
     "execution_count": 70,
     "metadata": {},
     "output_type": "execute_result"
    }
   ],
   "source": [
    "df2.describe()"
   ]
  },
  {
   "cell_type": "code",
   "execution_count": 71,
   "metadata": {},
   "outputs": [
    {
     "data": {
      "text/plain": [
       "object_id                     12000\n",
       "creation_time                 11996\n",
       "name                          11355\n",
       "email                         11980\n",
       "creation_source                   5\n",
       "last_session_creation_time     8821\n",
       "opted_in_to_mailing_list          2\n",
       "enabled_for_marketing_drip        2\n",
       "org_id                          417\n",
       "invited_by_user_id             2564\n",
       "dtype: int64"
      ]
     },
     "execution_count": 71,
     "metadata": {},
     "output_type": "execute_result"
    }
   ],
   "source": [
    "df1.nunique()"
   ]
  },
  {
   "cell_type": "code",
   "execution_count": 72,
   "metadata": {},
   "outputs": [
    {
     "data": {
      "text/plain": [
       "time_stamp    207220\n",
       "user_id         8823\n",
       "visited            1\n",
       "dtype: int64"
      ]
     },
     "execution_count": 72,
     "metadata": {},
     "output_type": "execute_result"
    }
   ],
   "source": [
    "df2.nunique()"
   ]
  },
  {
   "cell_type": "markdown",
   "metadata": {},
   "source": [
    "### df1 dataframe has some null values in the _last_session_creationtime and _invited_by_userid columns. We will deal with the missing values later.\n",
    "### df2 dataframe seems to be sorted according to the _userid and _timestamp column and there is data for 8823 users out of the total 12000 users registered under the df1 dataframe."
   ]
  },
  {
   "cell_type": "code",
   "execution_count": 73,
   "metadata": {},
   "outputs": [],
   "source": [
    "df1['last_session_creation_time']=pd.to_datetime(df1['last_session_creation_time'],unit='s')"
   ]
  },
  {
   "cell_type": "code",
   "execution_count": 74,
   "metadata": {},
   "outputs": [
    {
     "data": {
      "text/plain": [
       "dtype('<M8[ns]')"
      ]
     },
     "execution_count": 74,
     "metadata": {},
     "output_type": "execute_result"
    }
   ],
   "source": [
    "df1.last_session_creation_time.dtypes  #doubt"
   ]
  },
  {
   "cell_type": "code",
   "execution_count": 75,
   "metadata": {},
   "outputs": [
    {
     "data": {
      "text/html": [
       "<div>\n",
       "<style scoped>\n",
       "    .dataframe tbody tr th:only-of-type {\n",
       "        vertical-align: middle;\n",
       "    }\n",
       "\n",
       "    .dataframe tbody tr th {\n",
       "        vertical-align: top;\n",
       "    }\n",
       "\n",
       "    .dataframe thead th {\n",
       "        text-align: right;\n",
       "    }\n",
       "</style>\n",
       "<table border=\"1\" class=\"dataframe\">\n",
       "  <thead>\n",
       "    <tr style=\"text-align: right;\">\n",
       "      <th></th>\n",
       "      <th>object_id</th>\n",
       "      <th>creation_time</th>\n",
       "      <th>name</th>\n",
       "      <th>email</th>\n",
       "      <th>creation_source</th>\n",
       "      <th>last_session_creation_time</th>\n",
       "      <th>opted_in_to_mailing_list</th>\n",
       "      <th>enabled_for_marketing_drip</th>\n",
       "      <th>org_id</th>\n",
       "      <th>invited_by_user_id</th>\n",
       "    </tr>\n",
       "  </thead>\n",
       "  <tbody>\n",
       "    <tr>\n",
       "      <th>0</th>\n",
       "      <td>1</td>\n",
       "      <td>2014-04-22 03:53:30</td>\n",
       "      <td>Clausen August</td>\n",
       "      <td>AugustCClausen@yahoo.com</td>\n",
       "      <td>GUEST_INVITE</td>\n",
       "      <td>2014-04-22 03:53:30</td>\n",
       "      <td>1</td>\n",
       "      <td>0</td>\n",
       "      <td>11</td>\n",
       "      <td>10803.0</td>\n",
       "    </tr>\n",
       "    <tr>\n",
       "      <th>1</th>\n",
       "      <td>2</td>\n",
       "      <td>2013-11-15 03:45:04</td>\n",
       "      <td>Poole Matthew</td>\n",
       "      <td>MatthewPoole@gustr.com</td>\n",
       "      <td>ORG_INVITE</td>\n",
       "      <td>2014-03-31 03:45:04</td>\n",
       "      <td>0</td>\n",
       "      <td>0</td>\n",
       "      <td>1</td>\n",
       "      <td>316.0</td>\n",
       "    </tr>\n",
       "    <tr>\n",
       "      <th>2</th>\n",
       "      <td>3</td>\n",
       "      <td>2013-03-19 23:14:52</td>\n",
       "      <td>Bottrill Mitchell</td>\n",
       "      <td>MitchellBottrill@gustr.com</td>\n",
       "      <td>ORG_INVITE</td>\n",
       "      <td>2013-03-19 23:14:52</td>\n",
       "      <td>0</td>\n",
       "      <td>0</td>\n",
       "      <td>94</td>\n",
       "      <td>1525.0</td>\n",
       "    </tr>\n",
       "    <tr>\n",
       "      <th>3</th>\n",
       "      <td>4</td>\n",
       "      <td>2013-05-21 08:09:28</td>\n",
       "      <td>Clausen Nicklas</td>\n",
       "      <td>NicklasSClausen@yahoo.com</td>\n",
       "      <td>GUEST_INVITE</td>\n",
       "      <td>2013-05-22 08:09:28</td>\n",
       "      <td>0</td>\n",
       "      <td>0</td>\n",
       "      <td>1</td>\n",
       "      <td>5151.0</td>\n",
       "    </tr>\n",
       "    <tr>\n",
       "      <th>4</th>\n",
       "      <td>5</td>\n",
       "      <td>2013-01-17 10:14:20</td>\n",
       "      <td>Raw Grace</td>\n",
       "      <td>GraceRaw@yahoo.com</td>\n",
       "      <td>GUEST_INVITE</td>\n",
       "      <td>2013-01-22 10:14:20</td>\n",
       "      <td>0</td>\n",
       "      <td>0</td>\n",
       "      <td>193</td>\n",
       "      <td>5240.0</td>\n",
       "    </tr>\n",
       "  </tbody>\n",
       "</table>\n",
       "</div>"
      ],
      "text/plain": [
       "   object_id       creation_time               name  \\\n",
       "0          1 2014-04-22 03:53:30     Clausen August   \n",
       "1          2 2013-11-15 03:45:04      Poole Matthew   \n",
       "2          3 2013-03-19 23:14:52  Bottrill Mitchell   \n",
       "3          4 2013-05-21 08:09:28    Clausen Nicklas   \n",
       "4          5 2013-01-17 10:14:20          Raw Grace   \n",
       "\n",
       "                        email creation_source last_session_creation_time  \\\n",
       "0    AugustCClausen@yahoo.com    GUEST_INVITE        2014-04-22 03:53:30   \n",
       "1      MatthewPoole@gustr.com      ORG_INVITE        2014-03-31 03:45:04   \n",
       "2  MitchellBottrill@gustr.com      ORG_INVITE        2013-03-19 23:14:52   \n",
       "3   NicklasSClausen@yahoo.com    GUEST_INVITE        2013-05-22 08:09:28   \n",
       "4          GraceRaw@yahoo.com    GUEST_INVITE        2013-01-22 10:14:20   \n",
       "\n",
       "   opted_in_to_mailing_list  enabled_for_marketing_drip  org_id  \\\n",
       "0                         1                           0      11   \n",
       "1                         0                           0       1   \n",
       "2                         0                           0      94   \n",
       "3                         0                           0       1   \n",
       "4                         0                           0     193   \n",
       "\n",
       "   invited_by_user_id  \n",
       "0             10803.0  \n",
       "1               316.0  \n",
       "2              1525.0  \n",
       "3              5151.0  \n",
       "4              5240.0  "
      ]
     },
     "execution_count": 75,
     "metadata": {},
     "output_type": "execute_result"
    }
   ],
   "source": [
    "df1.head()"
   ]
  },
  {
   "cell_type": "code",
   "execution_count": 76,
   "metadata": {},
   "outputs": [
    {
     "data": {
      "text/plain": [
       "(Timestamp('2012-05-31 00:43:27'), Timestamp('2014-05-30 23:59:19'))"
      ]
     },
     "execution_count": 76,
     "metadata": {},
     "output_type": "execute_result"
    }
   ],
   "source": [
    "df1['creation_time'].min(),df1['creation_time'].max()"
   ]
  },
  {
   "cell_type": "code",
   "execution_count": 77,
   "metadata": {},
   "outputs": [
    {
     "data": {
      "text/plain": [
       "(Timestamp('2012-05-31 08:20:06'), Timestamp('2014-06-06 14:58:50'))"
      ]
     },
     "execution_count": 77,
     "metadata": {},
     "output_type": "execute_result"
    }
   ],
   "source": [
    "df1.last_session_creation_time.min(),df1.last_session_creation_time.max()"
   ]
  },
  {
   "cell_type": "markdown",
   "metadata": {},
   "source": [
    "### For determining which users can be labeled as adopted users, we can use groupby and rolling methods to find the users who were active for more than 3 days in any of the 7 day rolling period."
   ]
  },
  {
   "cell_type": "code",
   "execution_count": 78,
   "metadata": {},
   "outputs": [],
   "source": [
    "df3=df2.copy()"
   ]
  },
  {
   "cell_type": "code",
   "execution_count": 79,
   "metadata": {},
   "outputs": [
    {
     "data": {
      "text/html": [
       "<div>\n",
       "<style scoped>\n",
       "    .dataframe tbody tr th:only-of-type {\n",
       "        vertical-align: middle;\n",
       "    }\n",
       "\n",
       "    .dataframe tbody tr th {\n",
       "        vertical-align: top;\n",
       "    }\n",
       "\n",
       "    .dataframe thead th {\n",
       "        text-align: right;\n",
       "    }\n",
       "</style>\n",
       "<table border=\"1\" class=\"dataframe\">\n",
       "  <thead>\n",
       "    <tr style=\"text-align: right;\">\n",
       "      <th></th>\n",
       "      <th>time_stamp</th>\n",
       "      <th>user_id</th>\n",
       "      <th>visited</th>\n",
       "    </tr>\n",
       "  </thead>\n",
       "  <tbody>\n",
       "    <tr>\n",
       "      <th>0</th>\n",
       "      <td>2014-04-22 03:53:30</td>\n",
       "      <td>1</td>\n",
       "      <td>1</td>\n",
       "    </tr>\n",
       "    <tr>\n",
       "      <th>1</th>\n",
       "      <td>2013-11-15 03:45:04</td>\n",
       "      <td>2</td>\n",
       "      <td>1</td>\n",
       "    </tr>\n",
       "  </tbody>\n",
       "</table>\n",
       "</div>"
      ],
      "text/plain": [
       "           time_stamp  user_id  visited\n",
       "0 2014-04-22 03:53:30        1        1\n",
       "1 2013-11-15 03:45:04        2        1"
      ]
     },
     "execution_count": 79,
     "metadata": {},
     "output_type": "execute_result"
    }
   ],
   "source": [
    "df3.head(2)"
   ]
  },
  {
   "cell_type": "code",
   "execution_count": 80,
   "metadata": {},
   "outputs": [
    {
     "data": {
      "text/plain": [
       "0        2014-04-22 03:53:30\n",
       "1        2013-11-15 03:45:04\n",
       "2        2013-11-29 03:45:04\n",
       "3        2013-12-09 03:45:04\n",
       "4        2013-12-25 03:45:04\n",
       "                 ...        \n",
       "207912   2013-09-06 06:14:15\n",
       "207913   2013-01-15 18:28:37\n",
       "207914   2014-04-27 12:45:16\n",
       "207915   2012-06-02 11:55:59\n",
       "207916   2014-01-26 08:57:12\n",
       "Name: time_stamp, Length: 207917, dtype: datetime64[ns]"
      ]
     },
     "execution_count": 80,
     "metadata": {},
     "output_type": "execute_result"
    }
   ],
   "source": [
    "pd.to_datetime(df3['time_stamp'],unit='s')"
   ]
  },
  {
   "cell_type": "code",
   "execution_count": 81,
   "metadata": {},
   "outputs": [
    {
     "data": {
      "text/html": [
       "<div>\n",
       "<style scoped>\n",
       "    .dataframe tbody tr th:only-of-type {\n",
       "        vertical-align: middle;\n",
       "    }\n",
       "\n",
       "    .dataframe tbody tr th {\n",
       "        vertical-align: top;\n",
       "    }\n",
       "\n",
       "    .dataframe thead th {\n",
       "        text-align: right;\n",
       "    }\n",
       "</style>\n",
       "<table border=\"1\" class=\"dataframe\">\n",
       "  <thead>\n",
       "    <tr style=\"text-align: right;\">\n",
       "      <th></th>\n",
       "      <th>time_stamp</th>\n",
       "      <th>user_id</th>\n",
       "      <th>visited</th>\n",
       "      <th>date</th>\n",
       "    </tr>\n",
       "  </thead>\n",
       "  <tbody>\n",
       "    <tr>\n",
       "      <th>0</th>\n",
       "      <td>2014-04-22 03:53:30</td>\n",
       "      <td>1</td>\n",
       "      <td>1</td>\n",
       "      <td>2014-04-22</td>\n",
       "    </tr>\n",
       "    <tr>\n",
       "      <th>1</th>\n",
       "      <td>2013-11-15 03:45:04</td>\n",
       "      <td>2</td>\n",
       "      <td>1</td>\n",
       "      <td>2013-11-15</td>\n",
       "    </tr>\n",
       "  </tbody>\n",
       "</table>\n",
       "</div>"
      ],
      "text/plain": [
       "           time_stamp  user_id  visited       date\n",
       "0 2014-04-22 03:53:30        1        1 2014-04-22\n",
       "1 2013-11-15 03:45:04        2        1 2013-11-15"
      ]
     },
     "execution_count": 81,
     "metadata": {},
     "output_type": "execute_result"
    }
   ],
   "source": [
    "df3['date']=pd.to_datetime(df3.time_stamp.dt.date)\n",
    "df3.head(2)"
   ]
  },
  {
   "cell_type": "code",
   "execution_count": 82,
   "metadata": {},
   "outputs": [],
   "source": [
    "def rolling_count(df_group,frequency):\n",
    "    return df_group.rolling(frequency,on='date')['user_id'].count()\n",
    "    "
   ]
  },
  {
   "cell_type": "code",
   "execution_count": 83,
   "metadata": {},
   "outputs": [],
   "source": [
    "df3['visits_7_days']=df3.groupby('user_id',as_index=False,group_keys=False).apply(rolling_count,'7D')"
   ]
  },
  {
   "cell_type": "code",
   "execution_count": 84,
   "metadata": {},
   "outputs": [
    {
     "data": {
      "text/html": [
       "<div>\n",
       "<style scoped>\n",
       "    .dataframe tbody tr th:only-of-type {\n",
       "        vertical-align: middle;\n",
       "    }\n",
       "\n",
       "    .dataframe tbody tr th {\n",
       "        vertical-align: top;\n",
       "    }\n",
       "\n",
       "    .dataframe thead th {\n",
       "        text-align: right;\n",
       "    }\n",
       "</style>\n",
       "<table border=\"1\" class=\"dataframe\">\n",
       "  <thead>\n",
       "    <tr style=\"text-align: right;\">\n",
       "      <th></th>\n",
       "      <th>count</th>\n",
       "      <th>mean</th>\n",
       "      <th>std</th>\n",
       "      <th>min</th>\n",
       "      <th>25%</th>\n",
       "      <th>50%</th>\n",
       "      <th>75%</th>\n",
       "      <th>max</th>\n",
       "    </tr>\n",
       "  </thead>\n",
       "  <tbody>\n",
       "    <tr>\n",
       "      <th>user_id</th>\n",
       "      <td>207917.0</td>\n",
       "      <td>5913.314197</td>\n",
       "      <td>3394.941674</td>\n",
       "      <td>1.0</td>\n",
       "      <td>3087.0</td>\n",
       "      <td>5682.0</td>\n",
       "      <td>8944.0</td>\n",
       "      <td>12000.0</td>\n",
       "    </tr>\n",
       "    <tr>\n",
       "      <th>visited</th>\n",
       "      <td>207917.0</td>\n",
       "      <td>1.000000</td>\n",
       "      <td>0.000000</td>\n",
       "      <td>1.0</td>\n",
       "      <td>1.0</td>\n",
       "      <td>1.0</td>\n",
       "      <td>1.0</td>\n",
       "      <td>1.0</td>\n",
       "    </tr>\n",
       "    <tr>\n",
       "      <th>visits_7_days</th>\n",
       "      <td>207917.0</td>\n",
       "      <td>4.381393</td>\n",
       "      <td>2.042666</td>\n",
       "      <td>1.0</td>\n",
       "      <td>3.0</td>\n",
       "      <td>4.0</td>\n",
       "      <td>6.0</td>\n",
       "      <td>7.0</td>\n",
       "    </tr>\n",
       "  </tbody>\n",
       "</table>\n",
       "</div>"
      ],
      "text/plain": [
       "                  count         mean          std  min     25%     50%  \\\n",
       "user_id        207917.0  5913.314197  3394.941674  1.0  3087.0  5682.0   \n",
       "visited        207917.0     1.000000     0.000000  1.0     1.0     1.0   \n",
       "visits_7_days  207917.0     4.381393     2.042666  1.0     3.0     4.0   \n",
       "\n",
       "                  75%      max  \n",
       "user_id        8944.0  12000.0  \n",
       "visited           1.0      1.0  \n",
       "visits_7_days     6.0      7.0  "
      ]
     },
     "execution_count": 84,
     "metadata": {},
     "output_type": "execute_result"
    }
   ],
   "source": [
    "df3.describe().T"
   ]
  },
  {
   "cell_type": "code",
   "execution_count": 85,
   "metadata": {},
   "outputs": [
    {
     "data": {
      "text/html": [
       "<div>\n",
       "<style scoped>\n",
       "    .dataframe tbody tr th:only-of-type {\n",
       "        vertical-align: middle;\n",
       "    }\n",
       "\n",
       "    .dataframe tbody tr th {\n",
       "        vertical-align: top;\n",
       "    }\n",
       "\n",
       "    .dataframe thead th {\n",
       "        text-align: right;\n",
       "    }\n",
       "</style>\n",
       "<table border=\"1\" class=\"dataframe\">\n",
       "  <thead>\n",
       "    <tr style=\"text-align: right;\">\n",
       "      <th></th>\n",
       "      <th>time_stamp</th>\n",
       "      <th>user_id</th>\n",
       "      <th>visited</th>\n",
       "      <th>date</th>\n",
       "      <th>visits_7_days</th>\n",
       "    </tr>\n",
       "  </thead>\n",
       "  <tbody>\n",
       "    <tr>\n",
       "      <th>9</th>\n",
       "      <td>2014-02-09 03:45:04</td>\n",
       "      <td>2</td>\n",
       "      <td>1</td>\n",
       "      <td>2014-02-09</td>\n",
       "      <td>3.0</td>\n",
       "    </tr>\n",
       "    <tr>\n",
       "      <th>10</th>\n",
       "      <td>2014-02-13 03:45:04</td>\n",
       "      <td>2</td>\n",
       "      <td>1</td>\n",
       "      <td>2014-02-13</td>\n",
       "      <td>3.0</td>\n",
       "    </tr>\n",
       "    <tr>\n",
       "      <th>27</th>\n",
       "      <td>2013-02-19 22:08:03</td>\n",
       "      <td>10</td>\n",
       "      <td>1</td>\n",
       "      <td>2013-02-19</td>\n",
       "      <td>3.0</td>\n",
       "    </tr>\n",
       "    <tr>\n",
       "      <th>30</th>\n",
       "      <td>2013-03-02 22:08:03</td>\n",
       "      <td>10</td>\n",
       "      <td>1</td>\n",
       "      <td>2013-03-02</td>\n",
       "      <td>3.0</td>\n",
       "    </tr>\n",
       "    <tr>\n",
       "      <th>31</th>\n",
       "      <td>2013-03-05 22:08:03</td>\n",
       "      <td>10</td>\n",
       "      <td>1</td>\n",
       "      <td>2013-03-05</td>\n",
       "      <td>3.0</td>\n",
       "    </tr>\n",
       "    <tr>\n",
       "      <th>...</th>\n",
       "      <td>...</td>\n",
       "      <td>...</td>\n",
       "      <td>...</td>\n",
       "      <td>...</td>\n",
       "      <td>...</td>\n",
       "    </tr>\n",
       "    <tr>\n",
       "      <th>207898</th>\n",
       "      <td>2014-05-23 11:04:47</td>\n",
       "      <td>11988</td>\n",
       "      <td>1</td>\n",
       "      <td>2014-05-23</td>\n",
       "      <td>6.0</td>\n",
       "    </tr>\n",
       "    <tr>\n",
       "      <th>207899</th>\n",
       "      <td>2014-05-24 11:04:47</td>\n",
       "      <td>11988</td>\n",
       "      <td>1</td>\n",
       "      <td>2014-05-24</td>\n",
       "      <td>6.0</td>\n",
       "    </tr>\n",
       "    <tr>\n",
       "      <th>207900</th>\n",
       "      <td>2014-05-26 11:04:47</td>\n",
       "      <td>11988</td>\n",
       "      <td>1</td>\n",
       "      <td>2014-05-26</td>\n",
       "      <td>5.0</td>\n",
       "    </tr>\n",
       "    <tr>\n",
       "      <th>207901</th>\n",
       "      <td>2014-05-27 11:04:47</td>\n",
       "      <td>11988</td>\n",
       "      <td>1</td>\n",
       "      <td>2014-05-27</td>\n",
       "      <td>5.0</td>\n",
       "    </tr>\n",
       "    <tr>\n",
       "      <th>207902</th>\n",
       "      <td>2014-06-01 11:04:47</td>\n",
       "      <td>11988</td>\n",
       "      <td>1</td>\n",
       "      <td>2014-06-01</td>\n",
       "      <td>3.0</td>\n",
       "    </tr>\n",
       "  </tbody>\n",
       "</table>\n",
       "<p>160522 rows × 5 columns</p>\n",
       "</div>"
      ],
      "text/plain": [
       "                time_stamp  user_id  visited       date  visits_7_days\n",
       "9      2014-02-09 03:45:04        2        1 2014-02-09            3.0\n",
       "10     2014-02-13 03:45:04        2        1 2014-02-13            3.0\n",
       "27     2013-02-19 22:08:03       10        1 2013-02-19            3.0\n",
       "30     2013-03-02 22:08:03       10        1 2013-03-02            3.0\n",
       "31     2013-03-05 22:08:03       10        1 2013-03-05            3.0\n",
       "...                    ...      ...      ...        ...            ...\n",
       "207898 2014-05-23 11:04:47    11988        1 2014-05-23            6.0\n",
       "207899 2014-05-24 11:04:47    11988        1 2014-05-24            6.0\n",
       "207900 2014-05-26 11:04:47    11988        1 2014-05-26            5.0\n",
       "207901 2014-05-27 11:04:47    11988        1 2014-05-27            5.0\n",
       "207902 2014-06-01 11:04:47    11988        1 2014-06-01            3.0\n",
       "\n",
       "[160522 rows x 5 columns]"
      ]
     },
     "execution_count": 85,
     "metadata": {},
     "output_type": "execute_result"
    }
   ],
   "source": [
    "df3[df3['visits_7_days']>=3]"
   ]
  },
  {
   "cell_type": "markdown",
   "metadata": {},
   "source": [
    "### If any of the values in the _visits_7days column is >=3, then we can label that user as adopted."
   ]
  },
  {
   "cell_type": "code",
   "execution_count": 86,
   "metadata": {},
   "outputs": [],
   "source": [
    "user_adopted=df3.groupby('user_id')['visits_7_days'].max().reset_index()"
   ]
  },
  {
   "cell_type": "code",
   "execution_count": 87,
   "metadata": {},
   "outputs": [],
   "source": [
    "user_adopted['adopted_user']=user_adopted['visits_7_days'].apply(lambda x:1 if x>=3 else 0)"
   ]
  },
  {
   "cell_type": "code",
   "execution_count": 88,
   "metadata": {},
   "outputs": [
    {
     "data": {
      "text/html": [
       "<div>\n",
       "<style scoped>\n",
       "    .dataframe tbody tr th:only-of-type {\n",
       "        vertical-align: middle;\n",
       "    }\n",
       "\n",
       "    .dataframe tbody tr th {\n",
       "        vertical-align: top;\n",
       "    }\n",
       "\n",
       "    .dataframe thead th {\n",
       "        text-align: right;\n",
       "    }\n",
       "</style>\n",
       "<table border=\"1\" class=\"dataframe\">\n",
       "  <thead>\n",
       "    <tr style=\"text-align: right;\">\n",
       "      <th></th>\n",
       "      <th>user_id</th>\n",
       "      <th>visits_7_days</th>\n",
       "      <th>adopted_user</th>\n",
       "    </tr>\n",
       "  </thead>\n",
       "  <tbody>\n",
       "    <tr>\n",
       "      <th>0</th>\n",
       "      <td>1</td>\n",
       "      <td>1.0</td>\n",
       "      <td>0</td>\n",
       "    </tr>\n",
       "    <tr>\n",
       "      <th>1</th>\n",
       "      <td>2</td>\n",
       "      <td>3.0</td>\n",
       "      <td>1</td>\n",
       "    </tr>\n",
       "    <tr>\n",
       "      <th>2</th>\n",
       "      <td>3</td>\n",
       "      <td>1.0</td>\n",
       "      <td>0</td>\n",
       "    </tr>\n",
       "    <tr>\n",
       "      <th>3</th>\n",
       "      <td>4</td>\n",
       "      <td>1.0</td>\n",
       "      <td>0</td>\n",
       "    </tr>\n",
       "    <tr>\n",
       "      <th>4</th>\n",
       "      <td>5</td>\n",
       "      <td>1.0</td>\n",
       "      <td>0</td>\n",
       "    </tr>\n",
       "  </tbody>\n",
       "</table>\n",
       "</div>"
      ],
      "text/plain": [
       "   user_id  visits_7_days  adopted_user\n",
       "0        1            1.0             0\n",
       "1        2            3.0             1\n",
       "2        3            1.0             0\n",
       "3        4            1.0             0\n",
       "4        5            1.0             0"
      ]
     },
     "execution_count": 88,
     "metadata": {},
     "output_type": "execute_result"
    }
   ],
   "source": [
    "user_adopted.head()"
   ]
  },
  {
   "cell_type": "code",
   "execution_count": 89,
   "metadata": {},
   "outputs": [
    {
     "data": {
      "text/plain": [
       "0    7221\n",
       "1    1602\n",
       "Name: adopted_user, dtype: int64"
      ]
     },
     "execution_count": 89,
     "metadata": {},
     "output_type": "execute_result"
    }
   ],
   "source": [
    "user_adopted.adopted_user.value_counts()"
   ]
  },
  {
   "cell_type": "code",
   "execution_count": 90,
   "metadata": {},
   "outputs": [],
   "source": [
    "user_adopted.drop('visits_7_days',axis=1,inplace=True)\n",
    "user_adopted.rename(columns={'user_id':'object_id'},inplace=True)"
   ]
  },
  {
   "cell_type": "code",
   "execution_count": 91,
   "metadata": {},
   "outputs": [],
   "source": [
    "user_adopted.set_index('object_id',inplace=True)"
   ]
  },
  {
   "cell_type": "markdown",
   "metadata": {},
   "source": [
    "### Joining the above _useradopted dataframe with the original users dataframe."
   ]
  },
  {
   "cell_type": "code",
   "execution_count": 92,
   "metadata": {},
   "outputs": [],
   "source": [
    "df_users=df1.join(user_adopted,on='object_id',how='left')"
   ]
  },
  {
   "cell_type": "code",
   "execution_count": 93,
   "metadata": {},
   "outputs": [
    {
     "data": {
      "text/html": [
       "<div>\n",
       "<style scoped>\n",
       "    .dataframe tbody tr th:only-of-type {\n",
       "        vertical-align: middle;\n",
       "    }\n",
       "\n",
       "    .dataframe tbody tr th {\n",
       "        vertical-align: top;\n",
       "    }\n",
       "\n",
       "    .dataframe thead th {\n",
       "        text-align: right;\n",
       "    }\n",
       "</style>\n",
       "<table border=\"1\" class=\"dataframe\">\n",
       "  <thead>\n",
       "    <tr style=\"text-align: right;\">\n",
       "      <th></th>\n",
       "      <th>object_id</th>\n",
       "      <th>creation_time</th>\n",
       "      <th>name</th>\n",
       "      <th>email</th>\n",
       "      <th>creation_source</th>\n",
       "      <th>last_session_creation_time</th>\n",
       "      <th>opted_in_to_mailing_list</th>\n",
       "      <th>enabled_for_marketing_drip</th>\n",
       "      <th>org_id</th>\n",
       "      <th>invited_by_user_id</th>\n",
       "      <th>adopted_user</th>\n",
       "    </tr>\n",
       "  </thead>\n",
       "  <tbody>\n",
       "    <tr>\n",
       "      <th>0</th>\n",
       "      <td>1</td>\n",
       "      <td>2014-04-22 03:53:30</td>\n",
       "      <td>Clausen August</td>\n",
       "      <td>AugustCClausen@yahoo.com</td>\n",
       "      <td>GUEST_INVITE</td>\n",
       "      <td>2014-04-22 03:53:30</td>\n",
       "      <td>1</td>\n",
       "      <td>0</td>\n",
       "      <td>11</td>\n",
       "      <td>10803.0</td>\n",
       "      <td>0.0</td>\n",
       "    </tr>\n",
       "    <tr>\n",
       "      <th>1</th>\n",
       "      <td>2</td>\n",
       "      <td>2013-11-15 03:45:04</td>\n",
       "      <td>Poole Matthew</td>\n",
       "      <td>MatthewPoole@gustr.com</td>\n",
       "      <td>ORG_INVITE</td>\n",
       "      <td>2014-03-31 03:45:04</td>\n",
       "      <td>0</td>\n",
       "      <td>0</td>\n",
       "      <td>1</td>\n",
       "      <td>316.0</td>\n",
       "      <td>1.0</td>\n",
       "    </tr>\n",
       "    <tr>\n",
       "      <th>2</th>\n",
       "      <td>3</td>\n",
       "      <td>2013-03-19 23:14:52</td>\n",
       "      <td>Bottrill Mitchell</td>\n",
       "      <td>MitchellBottrill@gustr.com</td>\n",
       "      <td>ORG_INVITE</td>\n",
       "      <td>2013-03-19 23:14:52</td>\n",
       "      <td>0</td>\n",
       "      <td>0</td>\n",
       "      <td>94</td>\n",
       "      <td>1525.0</td>\n",
       "      <td>0.0</td>\n",
       "    </tr>\n",
       "    <tr>\n",
       "      <th>3</th>\n",
       "      <td>4</td>\n",
       "      <td>2013-05-21 08:09:28</td>\n",
       "      <td>Clausen Nicklas</td>\n",
       "      <td>NicklasSClausen@yahoo.com</td>\n",
       "      <td>GUEST_INVITE</td>\n",
       "      <td>2013-05-22 08:09:28</td>\n",
       "      <td>0</td>\n",
       "      <td>0</td>\n",
       "      <td>1</td>\n",
       "      <td>5151.0</td>\n",
       "      <td>0.0</td>\n",
       "    </tr>\n",
       "    <tr>\n",
       "      <th>4</th>\n",
       "      <td>5</td>\n",
       "      <td>2013-01-17 10:14:20</td>\n",
       "      <td>Raw Grace</td>\n",
       "      <td>GraceRaw@yahoo.com</td>\n",
       "      <td>GUEST_INVITE</td>\n",
       "      <td>2013-01-22 10:14:20</td>\n",
       "      <td>0</td>\n",
       "      <td>0</td>\n",
       "      <td>193</td>\n",
       "      <td>5240.0</td>\n",
       "      <td>0.0</td>\n",
       "    </tr>\n",
       "  </tbody>\n",
       "</table>\n",
       "</div>"
      ],
      "text/plain": [
       "   object_id       creation_time               name  \\\n",
       "0          1 2014-04-22 03:53:30     Clausen August   \n",
       "1          2 2013-11-15 03:45:04      Poole Matthew   \n",
       "2          3 2013-03-19 23:14:52  Bottrill Mitchell   \n",
       "3          4 2013-05-21 08:09:28    Clausen Nicklas   \n",
       "4          5 2013-01-17 10:14:20          Raw Grace   \n",
       "\n",
       "                        email creation_source last_session_creation_time  \\\n",
       "0    AugustCClausen@yahoo.com    GUEST_INVITE        2014-04-22 03:53:30   \n",
       "1      MatthewPoole@gustr.com      ORG_INVITE        2014-03-31 03:45:04   \n",
       "2  MitchellBottrill@gustr.com      ORG_INVITE        2013-03-19 23:14:52   \n",
       "3   NicklasSClausen@yahoo.com    GUEST_INVITE        2013-05-22 08:09:28   \n",
       "4          GraceRaw@yahoo.com    GUEST_INVITE        2013-01-22 10:14:20   \n",
       "\n",
       "   opted_in_to_mailing_list  enabled_for_marketing_drip  org_id  \\\n",
       "0                         1                           0      11   \n",
       "1                         0                           0       1   \n",
       "2                         0                           0      94   \n",
       "3                         0                           0       1   \n",
       "4                         0                           0     193   \n",
       "\n",
       "   invited_by_user_id  adopted_user  \n",
       "0             10803.0           0.0  \n",
       "1               316.0           1.0  \n",
       "2              1525.0           0.0  \n",
       "3              5151.0           0.0  \n",
       "4              5240.0           0.0  "
      ]
     },
     "execution_count": 93,
     "metadata": {},
     "output_type": "execute_result"
    }
   ],
   "source": [
    "df_users.head()"
   ]
  },
  {
   "cell_type": "code",
   "execution_count": 94,
   "metadata": {},
   "outputs": [
    {
     "name": "stdout",
     "output_type": "stream",
     "text": [
      "<class 'pandas.core.frame.DataFrame'>\n",
      "RangeIndex: 12000 entries, 0 to 11999\n",
      "Data columns (total 11 columns):\n",
      " #   Column                      Non-Null Count  Dtype         \n",
      "---  ------                      --------------  -----         \n",
      " 0   object_id                   12000 non-null  int64         \n",
      " 1   creation_time               12000 non-null  datetime64[ns]\n",
      " 2   name                        12000 non-null  object        \n",
      " 3   email                       12000 non-null  object        \n",
      " 4   creation_source             12000 non-null  object        \n",
      " 5   last_session_creation_time  8823 non-null   datetime64[ns]\n",
      " 6   opted_in_to_mailing_list    12000 non-null  int64         \n",
      " 7   enabled_for_marketing_drip  12000 non-null  int64         \n",
      " 8   org_id                      12000 non-null  int64         \n",
      " 9   invited_by_user_id          6417 non-null   float64       \n",
      " 10  adopted_user                8823 non-null   float64       \n",
      "dtypes: datetime64[ns](2), float64(2), int64(4), object(3)\n",
      "memory usage: 1.0+ MB\n"
     ]
    }
   ],
   "source": [
    "df_users.info()"
   ]
  },
  {
   "cell_type": "code",
   "execution_count": 95,
   "metadata": {},
   "outputs": [],
   "source": [
    "df_users['last_session_creation_time'].fillna(0, inplace = True)\n",
    "df_users['adopted_user'].fillna(0, inplace = True)"
   ]
  },
  {
   "cell_type": "code",
   "execution_count": 96,
   "metadata": {},
   "outputs": [
    {
     "data": {
      "text/html": [
       "<div>\n",
       "<style scoped>\n",
       "    .dataframe tbody tr th:only-of-type {\n",
       "        vertical-align: middle;\n",
       "    }\n",
       "\n",
       "    .dataframe tbody tr th {\n",
       "        vertical-align: top;\n",
       "    }\n",
       "\n",
       "    .dataframe thead th {\n",
       "        text-align: right;\n",
       "    }\n",
       "</style>\n",
       "<table border=\"1\" class=\"dataframe\">\n",
       "  <thead>\n",
       "    <tr style=\"text-align: right;\">\n",
       "      <th></th>\n",
       "      <th>count</th>\n",
       "      <th>mean</th>\n",
       "      <th>std</th>\n",
       "      <th>min</th>\n",
       "      <th>25%</th>\n",
       "      <th>50%</th>\n",
       "      <th>75%</th>\n",
       "      <th>max</th>\n",
       "    </tr>\n",
       "  </thead>\n",
       "  <tbody>\n",
       "    <tr>\n",
       "      <th>object_id</th>\n",
       "      <td>12000.0</td>\n",
       "      <td>6000.500000</td>\n",
       "      <td>3464.245950</td>\n",
       "      <td>1.0</td>\n",
       "      <td>3000.75</td>\n",
       "      <td>6000.5</td>\n",
       "      <td>9000.25</td>\n",
       "      <td>12000.0</td>\n",
       "    </tr>\n",
       "    <tr>\n",
       "      <th>opted_in_to_mailing_list</th>\n",
       "      <td>12000.0</td>\n",
       "      <td>0.249500</td>\n",
       "      <td>0.432742</td>\n",
       "      <td>0.0</td>\n",
       "      <td>0.00</td>\n",
       "      <td>0.0</td>\n",
       "      <td>0.00</td>\n",
       "      <td>1.0</td>\n",
       "    </tr>\n",
       "    <tr>\n",
       "      <th>enabled_for_marketing_drip</th>\n",
       "      <td>12000.0</td>\n",
       "      <td>0.149333</td>\n",
       "      <td>0.356432</td>\n",
       "      <td>0.0</td>\n",
       "      <td>0.00</td>\n",
       "      <td>0.0</td>\n",
       "      <td>0.00</td>\n",
       "      <td>1.0</td>\n",
       "    </tr>\n",
       "    <tr>\n",
       "      <th>org_id</th>\n",
       "      <td>12000.0</td>\n",
       "      <td>141.884583</td>\n",
       "      <td>124.056723</td>\n",
       "      <td>0.0</td>\n",
       "      <td>29.00</td>\n",
       "      <td>108.0</td>\n",
       "      <td>238.25</td>\n",
       "      <td>416.0</td>\n",
       "    </tr>\n",
       "    <tr>\n",
       "      <th>invited_by_user_id</th>\n",
       "      <td>6417.0</td>\n",
       "      <td>5962.957145</td>\n",
       "      <td>3383.761968</td>\n",
       "      <td>3.0</td>\n",
       "      <td>3058.00</td>\n",
       "      <td>5954.0</td>\n",
       "      <td>8817.00</td>\n",
       "      <td>11999.0</td>\n",
       "    </tr>\n",
       "    <tr>\n",
       "      <th>adopted_user</th>\n",
       "      <td>12000.0</td>\n",
       "      <td>0.133500</td>\n",
       "      <td>0.340128</td>\n",
       "      <td>0.0</td>\n",
       "      <td>0.00</td>\n",
       "      <td>0.0</td>\n",
       "      <td>0.00</td>\n",
       "      <td>1.0</td>\n",
       "    </tr>\n",
       "  </tbody>\n",
       "</table>\n",
       "</div>"
      ],
      "text/plain": [
       "                              count         mean          std  min      25%  \\\n",
       "object_id                   12000.0  6000.500000  3464.245950  1.0  3000.75   \n",
       "opted_in_to_mailing_list    12000.0     0.249500     0.432742  0.0     0.00   \n",
       "enabled_for_marketing_drip  12000.0     0.149333     0.356432  0.0     0.00   \n",
       "org_id                      12000.0   141.884583   124.056723  0.0    29.00   \n",
       "invited_by_user_id           6417.0  5962.957145  3383.761968  3.0  3058.00   \n",
       "adopted_user                12000.0     0.133500     0.340128  0.0     0.00   \n",
       "\n",
       "                               50%      75%      max  \n",
       "object_id                   6000.5  9000.25  12000.0  \n",
       "opted_in_to_mailing_list       0.0     0.00      1.0  \n",
       "enabled_for_marketing_drip     0.0     0.00      1.0  \n",
       "org_id                       108.0   238.25    416.0  \n",
       "invited_by_user_id          5954.0  8817.00  11999.0  \n",
       "adopted_user                   0.0     0.00      1.0  "
      ]
     },
     "execution_count": 96,
     "metadata": {},
     "output_type": "execute_result"
    }
   ],
   "source": [
    "df_users.describe().T"
   ]
  },
  {
   "cell_type": "markdown",
   "metadata": {},
   "source": [
    "### Let's see if we can extract useful information from the email variable like it's domain."
   ]
  },
  {
   "cell_type": "code",
   "execution_count": 97,
   "metadata": {},
   "outputs": [],
   "source": [
    "#df_users['email_domain']=df_users['email'].apply(lambda x:x.split('@'))\n",
    "#output=[JacobTye, gmail.com] if we want only domain name we have to apply(lambda x:x.split('@')[1])"
   ]
  },
  {
   "cell_type": "code",
   "execution_count": 98,
   "metadata": {},
   "outputs": [],
   "source": [
    "df_users['email_domain']=df_users['email'].apply(lambda x:x.split('@')[1])"
   ]
  },
  {
   "cell_type": "code",
   "execution_count": 99,
   "metadata": {},
   "outputs": [
    {
     "data": {
      "text/plain": [
       "gmail.com         3562\n",
       "yahoo.com         2447\n",
       "jourrapide.com    1259\n",
       "cuvox.de          1202\n",
       "gustr.com         1179\n",
       "                  ... \n",
       "lrabg.com            1\n",
       "mrytw.com            1\n",
       "ugtav.com            1\n",
       "hqhll.com            1\n",
       "iuxiw.com            1\n",
       "Name: email_domain, Length: 1184, dtype: int64"
      ]
     },
     "execution_count": 99,
     "metadata": {},
     "output_type": "execute_result"
    }
   ],
   "source": [
    "df_users['email_domain'].value_counts()"
   ]
  },
  {
   "cell_type": "code",
   "execution_count": 100,
   "metadata": {},
   "outputs": [
    {
     "data": {
      "text/plain": [
       "array(['GUEST_INVITE', 'ORG_INVITE'], dtype=object)"
      ]
     },
     "execution_count": 100,
     "metadata": {},
     "output_type": "execute_result"
    }
   ],
   "source": [
    "# Also checking the creation_source for NON NULL invited_by_user column\n",
    "df_users[~df_users['invited_by_user_id'].isnull()].creation_source.unique()"
   ]
  },
  {
   "cell_type": "markdown",
   "metadata": {},
   "source": [
    "### There are too many email domains and most of them seem fake domains so it's good to drop the column entirely. We can also drop the name and _objectid columns.\n",
    "\n",
    "### And for the _invited_by_userid let's convert the NULL values to 0 because the column has a Non Null value only if the _creationsource was a GUEST_INVITE or a ORG_INVITE anyways.\n",
    "\n",
    "### For the _creationtime column let's add a column which calculates how old the account is, i.e. the number of days since the account was created.\n",
    "\n",
    "### And since _last_session_creationtime can be removed as well because it was in a sense used to create the _adopteduser column."
   ]
  },
  {
   "cell_type": "code",
   "execution_count": 101,
   "metadata": {},
   "outputs": [],
   "source": [
    "df_users.drop(['object_id','name','email','email_domain'],axis=1,inplace=True)"
   ]
  },
  {
   "cell_type": "code",
   "execution_count": 102,
   "metadata": {},
   "outputs": [],
   "source": [
    "df_users.invited_by_user_id.fillna(0,inplace=True)"
   ]
  },
  {
   "cell_type": "code",
   "execution_count": 103,
   "metadata": {},
   "outputs": [],
   "source": [
    "df_users['days_since_creation']=(df2.time_stamp.max()-df_users.creation_time).dt.days"
   ]
  },
  {
   "cell_type": "code",
   "execution_count": 104,
   "metadata": {},
   "outputs": [],
   "source": [
    "df_users.drop(['creation_time','last_session_creation_time'],axis=1,inplace=True)"
   ]
  },
  {
   "cell_type": "markdown",
   "metadata": {},
   "source": [
    "Let's OneHotEncode the _creationsource column."
   ]
  },
  {
   "cell_type": "code",
   "execution_count": 105,
   "metadata": {},
   "outputs": [],
   "source": [
    "df_users=pd.get_dummies(df_users,columns=['creation_source'])"
   ]
  },
  {
   "cell_type": "code",
   "execution_count": 106,
   "metadata": {},
   "outputs": [
    {
     "data": {
      "text/html": [
       "<div>\n",
       "<style scoped>\n",
       "    .dataframe tbody tr th:only-of-type {\n",
       "        vertical-align: middle;\n",
       "    }\n",
       "\n",
       "    .dataframe tbody tr th {\n",
       "        vertical-align: top;\n",
       "    }\n",
       "\n",
       "    .dataframe thead th {\n",
       "        text-align: right;\n",
       "    }\n",
       "</style>\n",
       "<table border=\"1\" class=\"dataframe\">\n",
       "  <thead>\n",
       "    <tr style=\"text-align: right;\">\n",
       "      <th></th>\n",
       "      <th>opted_in_to_mailing_list</th>\n",
       "      <th>enabled_for_marketing_drip</th>\n",
       "      <th>org_id</th>\n",
       "      <th>invited_by_user_id</th>\n",
       "      <th>adopted_user</th>\n",
       "      <th>days_since_creation</th>\n",
       "      <th>creation_source_GUEST_INVITE</th>\n",
       "      <th>creation_source_ORG_INVITE</th>\n",
       "      <th>creation_source_PERSONAL_PROJECTS</th>\n",
       "      <th>creation_source_SIGNUP</th>\n",
       "      <th>creation_source_SIGNUP_GOOGLE_AUTH</th>\n",
       "    </tr>\n",
       "  </thead>\n",
       "  <tbody>\n",
       "    <tr>\n",
       "      <th>0</th>\n",
       "      <td>1</td>\n",
       "      <td>0</td>\n",
       "      <td>11</td>\n",
       "      <td>10803.0</td>\n",
       "      <td>0.0</td>\n",
       "      <td>45</td>\n",
       "      <td>1</td>\n",
       "      <td>0</td>\n",
       "      <td>0</td>\n",
       "      <td>0</td>\n",
       "      <td>0</td>\n",
       "    </tr>\n",
       "    <tr>\n",
       "      <th>1</th>\n",
       "      <td>0</td>\n",
       "      <td>0</td>\n",
       "      <td>1</td>\n",
       "      <td>316.0</td>\n",
       "      <td>1.0</td>\n",
       "      <td>203</td>\n",
       "      <td>0</td>\n",
       "      <td>1</td>\n",
       "      <td>0</td>\n",
       "      <td>0</td>\n",
       "      <td>0</td>\n",
       "    </tr>\n",
       "    <tr>\n",
       "      <th>2</th>\n",
       "      <td>0</td>\n",
       "      <td>0</td>\n",
       "      <td>94</td>\n",
       "      <td>1525.0</td>\n",
       "      <td>0.0</td>\n",
       "      <td>443</td>\n",
       "      <td>0</td>\n",
       "      <td>1</td>\n",
       "      <td>0</td>\n",
       "      <td>0</td>\n",
       "      <td>0</td>\n",
       "    </tr>\n",
       "    <tr>\n",
       "      <th>3</th>\n",
       "      <td>0</td>\n",
       "      <td>0</td>\n",
       "      <td>1</td>\n",
       "      <td>5151.0</td>\n",
       "      <td>0.0</td>\n",
       "      <td>381</td>\n",
       "      <td>1</td>\n",
       "      <td>0</td>\n",
       "      <td>0</td>\n",
       "      <td>0</td>\n",
       "      <td>0</td>\n",
       "    </tr>\n",
       "    <tr>\n",
       "      <th>4</th>\n",
       "      <td>0</td>\n",
       "      <td>0</td>\n",
       "      <td>193</td>\n",
       "      <td>5240.0</td>\n",
       "      <td>0.0</td>\n",
       "      <td>505</td>\n",
       "      <td>1</td>\n",
       "      <td>0</td>\n",
       "      <td>0</td>\n",
       "      <td>0</td>\n",
       "      <td>0</td>\n",
       "    </tr>\n",
       "  </tbody>\n",
       "</table>\n",
       "</div>"
      ],
      "text/plain": [
       "   opted_in_to_mailing_list  enabled_for_marketing_drip  org_id  \\\n",
       "0                         1                           0      11   \n",
       "1                         0                           0       1   \n",
       "2                         0                           0      94   \n",
       "3                         0                           0       1   \n",
       "4                         0                           0     193   \n",
       "\n",
       "   invited_by_user_id  adopted_user  days_since_creation  \\\n",
       "0             10803.0           0.0                   45   \n",
       "1               316.0           1.0                  203   \n",
       "2              1525.0           0.0                  443   \n",
       "3              5151.0           0.0                  381   \n",
       "4              5240.0           0.0                  505   \n",
       "\n",
       "   creation_source_GUEST_INVITE  creation_source_ORG_INVITE  \\\n",
       "0                             1                           0   \n",
       "1                             0                           1   \n",
       "2                             0                           1   \n",
       "3                             1                           0   \n",
       "4                             1                           0   \n",
       "\n",
       "   creation_source_PERSONAL_PROJECTS  creation_source_SIGNUP  \\\n",
       "0                                  0                       0   \n",
       "1                                  0                       0   \n",
       "2                                  0                       0   \n",
       "3                                  0                       0   \n",
       "4                                  0                       0   \n",
       "\n",
       "   creation_source_SIGNUP_GOOGLE_AUTH  \n",
       "0                                   0  \n",
       "1                                   0  \n",
       "2                                   0  \n",
       "3                                   0  \n",
       "4                                   0  "
      ]
     },
     "execution_count": 106,
     "metadata": {},
     "output_type": "execute_result"
    }
   ],
   "source": [
    "df_users.head()"
   ]
  },
  {
   "cell_type": "code",
   "execution_count": 107,
   "metadata": {},
   "outputs": [
    {
     "data": {
      "text/html": [
       "<div>\n",
       "<style scoped>\n",
       "    .dataframe tbody tr th:only-of-type {\n",
       "        vertical-align: middle;\n",
       "    }\n",
       "\n",
       "    .dataframe tbody tr th {\n",
       "        vertical-align: top;\n",
       "    }\n",
       "\n",
       "    .dataframe thead th {\n",
       "        text-align: right;\n",
       "    }\n",
       "</style>\n",
       "<table border=\"1\" class=\"dataframe\">\n",
       "  <thead>\n",
       "    <tr style=\"text-align: right;\">\n",
       "      <th></th>\n",
       "      <th>count</th>\n",
       "      <th>mean</th>\n",
       "      <th>std</th>\n",
       "      <th>min</th>\n",
       "      <th>25%</th>\n",
       "      <th>50%</th>\n",
       "      <th>75%</th>\n",
       "      <th>max</th>\n",
       "    </tr>\n",
       "  </thead>\n",
       "  <tbody>\n",
       "    <tr>\n",
       "      <th>opted_in_to_mailing_list</th>\n",
       "      <td>12000.0</td>\n",
       "      <td>0.249500</td>\n",
       "      <td>0.432742</td>\n",
       "      <td>0.0</td>\n",
       "      <td>0.0</td>\n",
       "      <td>0.0</td>\n",
       "      <td>0.00</td>\n",
       "      <td>1.0</td>\n",
       "    </tr>\n",
       "    <tr>\n",
       "      <th>enabled_for_marketing_drip</th>\n",
       "      <td>12000.0</td>\n",
       "      <td>0.149333</td>\n",
       "      <td>0.356432</td>\n",
       "      <td>0.0</td>\n",
       "      <td>0.0</td>\n",
       "      <td>0.0</td>\n",
       "      <td>0.00</td>\n",
       "      <td>1.0</td>\n",
       "    </tr>\n",
       "    <tr>\n",
       "      <th>org_id</th>\n",
       "      <td>12000.0</td>\n",
       "      <td>141.884583</td>\n",
       "      <td>124.056723</td>\n",
       "      <td>0.0</td>\n",
       "      <td>29.0</td>\n",
       "      <td>108.0</td>\n",
       "      <td>238.25</td>\n",
       "      <td>416.0</td>\n",
       "    </tr>\n",
       "    <tr>\n",
       "      <th>invited_by_user_id</th>\n",
       "      <td>12000.0</td>\n",
       "      <td>3188.691333</td>\n",
       "      <td>3869.027693</td>\n",
       "      <td>0.0</td>\n",
       "      <td>0.0</td>\n",
       "      <td>875.0</td>\n",
       "      <td>6317.00</td>\n",
       "      <td>11999.0</td>\n",
       "    </tr>\n",
       "    <tr>\n",
       "      <th>adopted_user</th>\n",
       "      <td>12000.0</td>\n",
       "      <td>0.133500</td>\n",
       "      <td>0.340128</td>\n",
       "      <td>0.0</td>\n",
       "      <td>0.0</td>\n",
       "      <td>0.0</td>\n",
       "      <td>0.00</td>\n",
       "      <td>1.0</td>\n",
       "    </tr>\n",
       "    <tr>\n",
       "      <th>days_since_creation</th>\n",
       "      <td>12000.0</td>\n",
       "      <td>324.568000</td>\n",
       "      <td>216.646173</td>\n",
       "      <td>6.0</td>\n",
       "      <td>129.0</td>\n",
       "      <td>304.0</td>\n",
       "      <td>506.00</td>\n",
       "      <td>736.0</td>\n",
       "    </tr>\n",
       "    <tr>\n",
       "      <th>creation_source_GUEST_INVITE</th>\n",
       "      <td>12000.0</td>\n",
       "      <td>0.180250</td>\n",
       "      <td>0.384412</td>\n",
       "      <td>0.0</td>\n",
       "      <td>0.0</td>\n",
       "      <td>0.0</td>\n",
       "      <td>0.00</td>\n",
       "      <td>1.0</td>\n",
       "    </tr>\n",
       "    <tr>\n",
       "      <th>creation_source_ORG_INVITE</th>\n",
       "      <td>12000.0</td>\n",
       "      <td>0.354500</td>\n",
       "      <td>0.478381</td>\n",
       "      <td>0.0</td>\n",
       "      <td>0.0</td>\n",
       "      <td>0.0</td>\n",
       "      <td>1.00</td>\n",
       "      <td>1.0</td>\n",
       "    </tr>\n",
       "    <tr>\n",
       "      <th>creation_source_PERSONAL_PROJECTS</th>\n",
       "      <td>12000.0</td>\n",
       "      <td>0.175917</td>\n",
       "      <td>0.380765</td>\n",
       "      <td>0.0</td>\n",
       "      <td>0.0</td>\n",
       "      <td>0.0</td>\n",
       "      <td>0.00</td>\n",
       "      <td>1.0</td>\n",
       "    </tr>\n",
       "    <tr>\n",
       "      <th>creation_source_SIGNUP</th>\n",
       "      <td>12000.0</td>\n",
       "      <td>0.173917</td>\n",
       "      <td>0.379054</td>\n",
       "      <td>0.0</td>\n",
       "      <td>0.0</td>\n",
       "      <td>0.0</td>\n",
       "      <td>0.00</td>\n",
       "      <td>1.0</td>\n",
       "    </tr>\n",
       "    <tr>\n",
       "      <th>creation_source_SIGNUP_GOOGLE_AUTH</th>\n",
       "      <td>12000.0</td>\n",
       "      <td>0.115417</td>\n",
       "      <td>0.319537</td>\n",
       "      <td>0.0</td>\n",
       "      <td>0.0</td>\n",
       "      <td>0.0</td>\n",
       "      <td>0.00</td>\n",
       "      <td>1.0</td>\n",
       "    </tr>\n",
       "  </tbody>\n",
       "</table>\n",
       "</div>"
      ],
      "text/plain": [
       "                                      count         mean          std  min  \\\n",
       "opted_in_to_mailing_list            12000.0     0.249500     0.432742  0.0   \n",
       "enabled_for_marketing_drip          12000.0     0.149333     0.356432  0.0   \n",
       "org_id                              12000.0   141.884583   124.056723  0.0   \n",
       "invited_by_user_id                  12000.0  3188.691333  3869.027693  0.0   \n",
       "adopted_user                        12000.0     0.133500     0.340128  0.0   \n",
       "days_since_creation                 12000.0   324.568000   216.646173  6.0   \n",
       "creation_source_GUEST_INVITE        12000.0     0.180250     0.384412  0.0   \n",
       "creation_source_ORG_INVITE          12000.0     0.354500     0.478381  0.0   \n",
       "creation_source_PERSONAL_PROJECTS   12000.0     0.175917     0.380765  0.0   \n",
       "creation_source_SIGNUP              12000.0     0.173917     0.379054  0.0   \n",
       "creation_source_SIGNUP_GOOGLE_AUTH  12000.0     0.115417     0.319537  0.0   \n",
       "\n",
       "                                      25%    50%      75%      max  \n",
       "opted_in_to_mailing_list              0.0    0.0     0.00      1.0  \n",
       "enabled_for_marketing_drip            0.0    0.0     0.00      1.0  \n",
       "org_id                               29.0  108.0   238.25    416.0  \n",
       "invited_by_user_id                    0.0  875.0  6317.00  11999.0  \n",
       "adopted_user                          0.0    0.0     0.00      1.0  \n",
       "days_since_creation                 129.0  304.0   506.00    736.0  \n",
       "creation_source_GUEST_INVITE          0.0    0.0     0.00      1.0  \n",
       "creation_source_ORG_INVITE            0.0    0.0     1.00      1.0  \n",
       "creation_source_PERSONAL_PROJECTS     0.0    0.0     0.00      1.0  \n",
       "creation_source_SIGNUP                0.0    0.0     0.00      1.0  \n",
       "creation_source_SIGNUP_GOOGLE_AUTH    0.0    0.0     0.00      1.0  "
      ]
     },
     "execution_count": 107,
     "metadata": {},
     "output_type": "execute_result"
    }
   ],
   "source": [
    "df_users.describe().T"
   ]
  },
  {
   "cell_type": "code",
   "execution_count": 108,
   "metadata": {},
   "outputs": [
    {
     "data": {
      "text/plain": [
       "opted_in_to_mailing_list              0.008097\n",
       "enabled_for_marketing_drip            0.004653\n",
       "org_id                                0.064523\n",
       "invited_by_user_id                    0.021596\n",
       "adopted_user                          1.000000\n",
       "days_since_creation                   0.088020\n",
       "creation_source_GUEST_INVITE          0.045408\n",
       "creation_source_ORG_INVITE           -0.007636\n",
       "creation_source_PERSONAL_PROJECTS    -0.075817\n",
       "creation_source_SIGNUP                0.009299\n",
       "creation_source_SIGNUP_GOOGLE_AUTH    0.036119\n",
       "Name: adopted_user, dtype: float64"
      ]
     },
     "execution_count": 108,
     "metadata": {},
     "output_type": "execute_result"
    }
   ],
   "source": [
    "df_users.corr()['adopted_user']"
   ]
  },
  {
   "cell_type": "markdown",
   "metadata": {},
   "source": [
    "#sns.pairplot(df_users, hue = 'adopted_user')"
   ]
  },
  {
   "cell_type": "code",
   "execution_count": 109,
   "metadata": {},
   "outputs": [
    {
     "data": {
      "image/png": "[encoded data removed]",
      "text/plain": [
       "<Figure size 400x216 with 1 Axes>"
      ]
     },
     "metadata": {
      "needs_background": "light"
     },
     "output_type": "display_data"
    },
    {
     "data": {
      "image/png": "[encoded data removed]",
      "text/plain": [
       "<Figure size 400x216 with 1 Axes>"
      ]
     },
     "metadata": {
      "needs_background": "light"
     },
     "output_type": "display_data"
    },
    {
     "data": {
      "image/png": "[encoded data removed]",
      "text/plain": [
       "<Figure size 400x216 with 1 Axes>"
      ]
     },
     "metadata": {
      "needs_background": "light"
     },
     "output_type": "display_data"
    },
    {
     "data": {
      "image/png": "[encoded data removed]",
      "text/plain": [
       "<Figure size 400x216 with 1 Axes>"
      ]
     },
     "metadata": {
      "needs_background": "light"
     },
     "output_type": "display_data"
    },
    {
     "data": {
      "image/png": "[encoded data removed]",
      "text/plain": [
       "<Figure size 400x216 with 1 Axes>"
      ]
     },
     "metadata": {
      "needs_background": "light"
     },
     "output_type": "display_data"
    },
    {
     "data": {
      "image/png": "[encoded data removed]",
      "text/plain": [
       "<Figure size 400x216 with 1 Axes>"
      ]
     },
     "metadata": {
      "needs_background": "light"
     },
     "output_type": "display_data"
    },
    {
     "data": {
      "image/png": "[encoded data removed]",
      "text/plain": [
       "<Figure size 400x216 with 1 Axes>"
      ]
     },
     "metadata": {
      "needs_background": "light"
     },
     "output_type": "display_data"
    }
   ],
   "source": [
    "for col in ['opted_in_to_mailing_list', 'enabled_for_marketing_drip', 'creation_source_GUEST_INVITE',\n",
    "           'creation_source_ORG_INVITE', 'creation_source_PERSONAL_PROJECTS', 'creation_source_SIGNUP',\n",
    "           'creation_source_SIGNUP_GOOGLE_AUTH']:\n",
    "    g=sns.FacetGrid(df_users,hue='adopted_user',height=3,aspect=1.5)\n",
    "    g.map(plt.hist,col,alpha=.5,bins=20)\n",
    "    g.add_legend()"
   ]
  },
  {
   "cell_type": "code",
   "execution_count": 110,
   "metadata": {},
   "outputs": [
    {
     "data": {
      "text/plain": [
       "<seaborn.axisgrid.FacetGrid at 0x17cfcb1b2e0>"
      ]
     },
     "execution_count": 110,
     "metadata": {},
     "output_type": "execute_result"
    },
    {
     "data": {
      "image/png": "[encoded data removed]",
      "text/plain": [
       "<Figure size 652x288 with 1 Axes>"
      ]
     },
     "metadata": {
      "needs_background": "light"
     },
     "output_type": "display_data"
    }
   ],
   "source": [
    "g=sns.FacetGrid(df_users,hue='adopted_user',height=4,aspect=2)\n",
    "g.map(plt.hist,'days_since_creation',alpha=0.8,bins=20)\n",
    "g.add_legend()"
   ]
  },
  {
   "cell_type": "markdown",
   "metadata": {},
   "source": [
    "### We can see that the _adopteduser class is pretty unbalanced because only about 13% of the total 12000 users are adopted.\n",
    "\n",
    "### Let's try to fit Random Forest Regression model and find the feature importance. Since we will be using random forest using trees we don't need to scale any features."
   ]
  },
  {
   "cell_type": "code",
   "execution_count": 70,
   "metadata": {},
   "outputs": [],
   "source": [
    "#importing necessary packages\n",
    "from sklearn.ensemble import RandomForestClassifier\n",
    "from sklearn.metrics import f1_score,precision_score,recall_score,accuracy_score,confusion_matrix,classification_report,roc_auc_score,roc_curve\n",
    "from sklearn.model_selection import train_test_split\n",
    "from sklearn.model_selection import GridSearchCV\n",
    "import time"
   ]
  },
  {
   "cell_type": "code",
   "execution_count": 91,
   "metadata": {},
   "outputs": [],
   "source": [
    "def cv_optimize(model,parameter,Xtrain,ytrain,n_folds=5):\n",
    "    clf=GridSearchCV(model,param_grid=parameter,cv=n_folds,scoring=\"accuracy\")\n",
    "    t0=time.time()\n",
    "    clf.fit(Xtrain,ytrain)\n",
    "    time_fit=time.time()-t0\n",
    "    print('\\n\\n\\n=============================',type(model).__name__,'=================================\\n')\n",
    "    print(\"It takes %.3f seconds for tuning \" % (time_fit))\n",
    "    print(\"Best Parameters\",clf.best_params_)\n",
    "    best=clf.best_estimator_\n",
    "    return best"
   ]
  },
  {
   "cell_type": "code",
   "execution_count": 93,
   "metadata": {},
   "outputs": [],
   "source": [
    "def do_classify(model,parameters,df,targetname,scale=True,cols_to_transform='numeric',featurenames='all',train_size=0.8):\n",
    "    if featurenames=='all':\n",
    "        X=df.drop([targetname],axis=1)\n",
    "    else:\n",
    "        X=df['featurenames']\n",
    "    y=df[targetname]\n",
    "    Xtrain,Xtest,ytrain,ytest=train_test_split(X,y,train_size=train_size)\n",
    "    model=cv_optimize(model,parameters,Xtrain,ytrain)\n",
    "    t0=time.time()\n",
    "    model=model.fit(Xtrain,ytrain)\n",
    "    time_fit=time.time()-t0\n",
    "    print(\"It takes %.3f seconds for fitting\" % (time_fit))\n",
    "    training_accuracy=model.score(Xtrain,ytrain)\n",
    "    test_accuracy=model.score(Xtest,ytest)\n",
    "    precision=precision_score(ytest,model.predict(Xtest))\n",
    "    recall=recall_score(ytest,model.predict(Xtest))\n",
    "    AUC=roc_auc_score(ytest,model.predict_proba(Xtest)[:,1])\n",
    "    print(\"Accuracy on training data: {:0.2f}\".format(training_accuracy))\n",
    "    print(\"Accuracy on test data:     {:0.2f}\".format(test_accuracy))\n",
    "    print(\"Precision on test data:    {:0.2f}\".format(precision))\n",
    "    print(\"Recall on test data:       {:0.2f}\".format(recall))\n",
    "    print(\"AUC on test data:          {:0.2f}\".format(AUC))\n",
    "    print(\"*********Confusion Matrix************\")\n",
    "    print(confusion_matrix(ytest, model.predict(Xtest)))\n",
    "    print(\"*********Classification report************\")\n",
    "    print(classification_report(ytest, model.predict(Xtest)))\n",
    "    print(\"=\"*100)\n",
    "    print(\"=\"*100)\n",
    "    print(\"=\"*100)\n",
    "    return model, Xtrain, ytrain, Xtest, ytest"
   ]
  },
  {
   "cell_type": "code",
   "execution_count": 83,
   "metadata": {},
   "outputs": [],
   "source": [
    "model_rf=RandomForestClassifier(class_weight='balanced')# adding balanced to handle the unbalanced data\n",
    "parameter_rf={\n",
    "    'n_estimators':[10,25,50,75,100],\n",
    "    'criterion':['gini','entropy'],\n",
    "    'max_depth':[3,6,10,12],\n",
    "    'max_features':['auto','sqrt']\n",
    "}"
   ]
  },
  {
   "cell_type": "code",
   "execution_count": 94,
   "metadata": {},
   "outputs": [
    {
     "name": "stdout",
     "output_type": "stream",
     "text": [
      "\n",
      "\n",
      "\n",
      "============================= RandomForestClassifier =================================\n",
      "\n",
      "It takes 180.151 seconds for tuning \n",
      "Best Parameters {'criterion': 'gini', 'max_depth': 12, 'max_features': 'auto', 'n_estimators': 100}\n",
      "It takes 1.200 seconds for fitting\n",
      "Accuracy on training data: 0.84\n",
      "Accuracy on test data:     0.71\n",
      "Precision on test data:    0.18\n",
      "Recall on test data:       0.32\n",
      "AUC on test data:          0.62\n",
      "*********Confusion Matrix************\n",
      "[[1610  472]\n",
      " [ 217  101]]\n",
      "*********Classification report************\n",
      "              precision    recall  f1-score   support\n",
      "\n",
      "         0.0       0.88      0.77      0.82      2082\n",
      "         1.0       0.18      0.32      0.23       318\n",
      "\n",
      "    accuracy                           0.71      2400\n",
      "   macro avg       0.53      0.55      0.53      2400\n",
      "weighted avg       0.79      0.71      0.74      2400\n",
      "\n",
      "====================================================================================================\n",
      "====================================================================================================\n",
      "====================================================================================================\n"
     ]
    }
   ],
   "source": [
    "model_rf,Xtrain,ytrain,Xtest,ytest=do_classify(model_rf,parameter_rf,df_users,targetname='adopted_user')"
   ]
  },
  {
   "cell_type": "code",
   "execution_count": 96,
   "metadata": {},
   "outputs": [
    {
     "data": {
      "text/plain": [
       "<matplotlib.axes._subplots.AxesSubplot at 0x1ad828d55c8>"
      ]
     },
     "execution_count": 96,
     "metadata": {},
     "output_type": "execute_result"
    },
    {
     "data": {
      "image/png": "[encoded data removed]",
      "text/plain": [
       "<Figure size 864x504 with 1 Axes>"
      ]
     },
     "metadata": {
      "needs_background": "light"
     },
     "output_type": "display_data"
    }
   ],
   "source": [
    "imp_fea=pd.DataFrame({'importance':model_rf.feature_importances_})\n",
    "imp_fea['feature']=Xtrain.columns\n",
    "imp_fea.sort_values(by='importance',inplace=True)\n",
    "imp_fea=imp_fea.set_index('feature',drop=True)\n",
    "imp_fea.plot.barh(title='Random Forest feature importance', figsize = (12,7))"
   ]
  },
  {
   "cell_type": "code",
   "execution_count": null,
   "metadata": {},
   "outputs": [],
   "source": []
  }
 ],
 "metadata": {
  "kernelspec": {
   "display_name": "Python 3 (ipykernel)",
   "language": "python",
   "name": "python3"
  },
  "language_info": {
   "codemirror_mode": {
    "name": "ipython",
    "version": 3
   },
   "file_extension": ".py",
   "mimetype": "text/x-python",
   "name": "python",
   "nbconvert_exporter": "python",
   "pygments_lexer": "ipython3",
   "version": "3.9.7"
  }
 },
 "nbformat": 4,
 "nbformat_minor": 2
}
